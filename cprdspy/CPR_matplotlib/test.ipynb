{
 "cells": [
  {
   "cell_type": "code",
   "execution_count": 1,
   "id": "a074a30e",
   "metadata": {},
   "outputs": [],
   "source": [
    "from CirclePointRoundSourcePure import *   "
   ]
  },
  {
   "cell_type": "code",
   "execution_count": null,
   "id": "2adc9b67",
   "metadata": {},
   "outputs": [],
   "source": [
    "plt.figure(figsize=(8, 8))\n",
    "wave_circle_pro_o(1.2, 6, 12, \"#00f\", theta=0, R=1)\n",
    "plt.axis(\"off\")"
   ]
  },
  {
   "cell_type": "code",
   "execution_count": null,
   "id": "aa49cf1e",
   "metadata": {},
   "outputs": [],
   "source": [
    "plt.savefig(\"icon.ico\", dpi=300)"
   ]
  },
  {
   "cell_type": "code",
   "execution_count": null,
   "id": "8be61cbe",
   "metadata": {},
   "outputs": [],
   "source": []
  }
 ],
 "metadata": {
  "kernelspec": {
   "display_name": ".venv",
   "language": "python",
   "name": "python3"
  },
  "language_info": {
   "codemirror_mode": {
    "name": "ipython",
    "version": 3
   },
   "file_extension": ".py",
   "mimetype": "text/x-python",
   "name": "python",
   "nbconvert_exporter": "python",
   "pygments_lexer": "ipython3",
   "version": "3.13.2"
  }
 },
 "nbformat": 4,
 "nbformat_minor": 5
}
