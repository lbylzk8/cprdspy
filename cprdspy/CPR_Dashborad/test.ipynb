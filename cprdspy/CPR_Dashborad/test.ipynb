{
 "cells": [
  {
   "cell_type": "code",
   "execution_count": 1,
   "metadata": {},
   "outputs": [],
   "source": [
    "from 圈点圆 import *\n"
   ]
  },
  {
   "cell_type": "code",
   "execution_count": null,
   "metadata": {},
   "outputs": [
    {
     "ename": "NameError",
     "evalue": "name '圆' is not defined",
     "output_type": "error",
     "traceback": [
      "\u001b[31m---------------------------------------------------------------------------\u001b[39m",
      "\u001b[31mNameError\u001b[39m                                 Traceback (most recent call last)",
      "\u001b[36mCell\u001b[39m\u001b[36m \u001b[39m\u001b[32mIn[1]\u001b[39m\u001b[32m, line 1\u001b[39m\n\u001b[32m----> \u001b[39m\u001b[32m1\u001b[39m \u001b[43m圆\u001b[49m((\u001b[32m0\u001b[39m,\u001b[32m0\u001b[39m),\u001b[32m1\u001b[39m).update_layout(\n\u001b[32m      2\u001b[39m     xaxis=\u001b[38;5;28mdict\u001b[39m(\n\u001b[32m      3\u001b[39m         visible=\u001b[38;5;28;01mFalse\u001b[39;00m,  \u001b[38;5;66;03m# 隐藏 x 轴\u001b[39;00m\n\u001b[32m      4\u001b[39m         ditik=\u001b[32m1\u001b[39m\n\u001b[32m      5\u001b[39m     ),\n\u001b[32m      6\u001b[39m     yaxis=\u001b[38;5;28mdict\u001b[39m(\n\u001b[32m      7\u001b[39m         visible=\u001b[38;5;28;01mFalse\u001b[39;00m,  \u001b[38;5;66;03m# 隐藏 y 轴\u001b[39;00m\n\u001b[32m      8\u001b[39m         ditik=\u001b[32m1\u001b[39m\n\u001b[32m      9\u001b[39m     ),\n\u001b[32m     10\u001b[39m     plot_bgcolor=\u001b[33m'\u001b[39m\u001b[33m#0f0\u001b[39m\u001b[33m'\u001b[39m,  \u001b[38;5;66;03m# 设置绘图背景颜色为白色\u001b[39;00m\n\u001b[32m     11\u001b[39m     paper_bgcolor=\u001b[33m'\u001b[39m\u001b[33m#0f0\u001b[39m\u001b[33m'\u001b[39m  \u001b[38;5;66;03m# 设置纸张背景颜色为白色\u001b[39;00m\n\u001b[32m     12\u001b[39m )\n",
      "\u001b[31mNameError\u001b[39m: name '圆' is not defined"
     ]
    }
   ],
   "source": [
    "圆((0,0),1).update_layout(\n",
    "    xaxis=dict(\n",
    "        visible=False,  # 隐藏 x 轴\n",
    "    ),\n",
    "    yaxis=dict(\n",
    "        visible=False,  # 隐藏 y 轴\n",
    "    ),\n",
    "    plot_bgcolor='#0f0',  # 设置绘图背景颜色为白色\n",
    "    paper_bgcolor='#0f0'  # 设置纸张背景颜色为白色\n",
    ")"
   ]
  },
  {
   "cell_type": "code",
   "execution_count": 2,
   "metadata": {},
   "outputs": [],
   "source": [
    "from CPRSP import *"
   ]
  },
  {
   "cell_type": "code",
   "execution_count": null,
   "metadata": {},
   "outputs": [],
   "source": [
    "flowers_flower_by_petal_multi((0,0),1,1,6,np.sqrt(1.5),3,12,np.pi/12,'#0f0')\n",
    ".update_layout(\n",
    "    xaxis=dict(\n",
    "        # visible=False,  # 隐藏 x 轴\n",
    "        dtick=1\n",
    "    ),\n",
    "    yaxis=dict(\n",
    "        # visible=False,  # 隐藏 y 轴\n",
    "        dtick=1\n",
    "    ),\n",
    "    width=800, height=800,\n",
    "    # plot_bgcolor='#fff',  # 设置绘图背景颜色为白色\n",
    "    # paper_bgcolor='#00f'  # 设置纸张背景颜色为白色\n",
    ")"
   ]
  },
  {
   "cell_type": "code",
   "execution_count": null,
   "metadata": {},
   "outputs": [],
   "source": []
  }
 ],
 "metadata": {
  "kernelspec": {
   "display_name": ".venv",
   "language": "python",
   "name": "python3"
  },
  "language_info": {
   "codemirror_mode": {
    "name": "ipython",
    "version": 3
   },
   "file_extension": ".py",
   "mimetype": "text/x-python",
   "name": "python",
   "nbconvert_exporter": "python",
   "pygments_lexer": "ipython3",
   "version": "3.13.2"
  }
 },
 "nbformat": 4,
 "nbformat_minor": 2
}
