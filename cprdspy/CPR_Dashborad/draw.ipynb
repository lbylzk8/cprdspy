{
 "cells": [
  {
   "cell_type": "code",
   "execution_count": 29,
   "id": "d486fe01",
   "metadata": {},
   "outputs": [],
   "source": [
    "from CPRSP import *\n"
   ]
  },
  {
   "cell_type": "code",
   "execution_count": null,
   "id": "10646ad6",
   "metadata": {},
   "outputs": [],
   "source": [
    "wave_circle_pro(1,3,12,'#0f0',0,2)"
   ]
  },
  {
   "cell_type": "code",
   "execution_count": null,
   "id": "1563b1c9",
   "metadata": {},
   "outputs": [],
   "source": [
    "flowers_flower_by_petal_fill(\n",
    "    (0, 0), np.sqrt(2.5), np.sqrt(2.5), 12, 6, 0, \"#f8f\", \"#00f\"\n",
    ")\n",
    "flowers_flower_by_petal_fill((0, 0), 1, 1, 12, 6, np.pi/12, \"#f88\", \"#0f0\")"
   ]
  },
  {
   "cell_type": "code",
   "execution_count": 1,
   "id": "98d483ca",
   "metadata": {},
   "outputs": [],
   "source": [
    "import CPR"
   ]
  },
  {
   "cell_type": "code",
   "execution_count": 4,
   "id": "592c14d8",
   "metadata": {},
   "outputs": [],
   "source": [
    "import CPR.CirclePointRoundSourcePure as cpr\n"
   ]
  },
  {
   "cell_type": "code",
   "execution_count": null,
   "id": "2c1059e7",
   "metadata": {},
   "outputs": [],
   "source": [
    "cpr.wave_circle_pro(1,3,12,'#0f0',0,2)"
   ]
  },
  {
   "cell_type": "code",
   "execution_count": null,
   "id": "4c696912",
   "metadata": {},
   "outputs": [],
   "source": []
  }
 ],
 "metadata": {
  "kernelspec": {
   "display_name": ".venv",
   "language": "python",
   "name": "python3"
  },
  "language_info": {
   "codemirror_mode": {
    "name": "ipython",
    "version": 3
   },
   "file_extension": ".py",
   "mimetype": "text/x-python",
   "name": "python",
   "nbconvert_exporter": "python",
   "pygments_lexer": "ipython3",
   "version": "3.13.2"
  }
 },
 "nbformat": 4,
 "nbformat_minor": 5
}
