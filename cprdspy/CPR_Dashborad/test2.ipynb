{
 "cells": [
  {
   "cell_type": "code",
   "execution_count": 7,
   "id": "b9fdc3a0",
   "metadata": {},
   "outputs": [
    {
     "name": "stdout",
     "output_type": "stream",
     "text": [
      "OrderedDict({'center': <Parameter \"center\">, 'R': <Parameter \"R\">, 'r': <Parameter \"r\">, 'n': <Parameter \"n\">, 'ratio': <Parameter \"ratio\">, 'M': <Parameter \"M\">, 'N': <Parameter \"N\">, 'theta': <Parameter \"theta\">, 'color': <Parameter \"color='b'\">})\n"
     ]
    }
   ],
   "source": [
    "import CPRSP as CPR\n",
    "import inspect\n",
    "paran=inspect.signature(CPR.flowers_flower_by_petal_multi).parameters\n",
    "# print(paran.__len__())\n",
    "print(paran)"
   ]
  },
  {
   "cell_type": "code",
   "execution_count": null,
   "id": "70c5b0c9",
   "metadata": {},
   "outputs": [],
   "source": []
  },
  {
   "cell_type": "code",
   "execution_count": null,
   "id": "2cc0ff2e",
   "metadata": {},
   "outputs": [],
   "source": []
  }
 ],
 "metadata": {
  "kernelspec": {
   "display_name": ".venv",
   "language": "python",
   "name": "python3"
  },
  "language_info": {
   "codemirror_mode": {
    "name": "ipython",
    "version": 3
   },
   "file_extension": ".py",
   "mimetype": "text/x-python",
   "name": "python",
   "nbconvert_exporter": "python",
   "pygments_lexer": "ipython3",
   "version": "3.13.2"
  }
 },
 "nbformat": 4,
 "nbformat_minor": 5
}
